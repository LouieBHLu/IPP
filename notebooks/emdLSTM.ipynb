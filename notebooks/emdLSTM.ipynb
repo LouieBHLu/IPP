{
 "metadata": {
  "language_info": {
   "codemirror_mode": {
    "name": "ipython",
    "version": 3
   },
   "file_extension": ".py",
   "mimetype": "text/x-python",
   "name": "python",
   "nbconvert_exporter": "python",
   "pygments_lexer": "ipython3",
   "version": "3.7.9-final"
  },
  "orig_nbformat": 2,
  "kernelspec": {
   "name": "pytorch_envs",
   "language": "python",
   "display_name": "Pytorch_envs"
  },
  "pycharm": {
   "stem_cell": {
    "cell_type": "raw",
    "source": [],
    "metadata": {
     "collapsed": false
    }
   }
  }
 },
 "nbformat": 4,
 "nbformat_minor": 2,
 "cells": [
  {
   "cell_type": "code",
   "execution_count": 92,
   "metadata": {
    "pycharm": {
     "is_executing": false
    }
   },
   "outputs": [],
   "source": [
    "import numpy as np\n",
    "from numpy import array\n",
    "import tensorflow as tf\n",
    "from tensorflow.keras.models import Sequential\n",
    "from tensorflow.keras.layers import LSTM\n",
    "from tensorflow.keras.layers import Dense\n",
    "from tensorflow.keras.layers import Bidirectional\n",
    "from tensorflow.keras.callbacks import EarlyStopping\n",
    "import pandas as pd\n",
    "import matplotlib.pyplot as plt\n",
    "from PyEMD import EMD\n",
    "from sklearn.metrics import mean_squared_error\n",
    "from sklearn.metrics import mean_absolute_error\n",
    "from sklearn.metrics import r2_score\n",
    "# from tqdm import tqdm\n",
    "\n",
    "N_STEPS = 7 #用多少天预测一天\n",
    "N_FEATURES = 1 #用来预测的总变量数，如果同时适用销量和定价来预测销量的话这里改成2，以此类推\n",
    "PRED_DAYS = 3 #预测多少天"
   ]
  },
  {
   "cell_type": "code",
   "execution_count": 50,
   "metadata": {
    "pycharm": {
     "is_executing": false
    }
   },
   "outputs": [],
   "source": [
    "# 用来分割原数据集使得数据集变成能训练的形状\n",
    "def splitSequence(sequence, n_steps):\n",
    "    X, y = list(), list()\n",
    "    for i in range(len(sequence)):\n",
    "        # find the end of this pattern\n",
    "        end_ix = i + n_steps\n",
    "        # check if we are beyond the sequence\n",
    "        if end_ix > len(sequence)-1:\n",
    "            break\n",
    "        # gather input and output parts of the pattern\n",
    "        seq_x, seq_y = sequence[i:end_ix], sequence[end_ix]\n",
    "        X.append(seq_x)\n",
    "        y.append(seq_y)\n",
    "    return array(X), array(y)"
   ]
  },
  {
   "cell_type": "code",
   "execution_count": 51,
   "metadata": {
    "pycharm": {
     "is_executing": false
    }
   },
   "outputs": [],
   "source": [
    "#读数据集，tableName是数据集的文件名，columnName是数据集的列名\n",
    "def readData(tableName,columnName):\n",
    "    date_csv = pd.read_csv(tableName)\n",
    "    dataset = date_csv[columnName].values\n",
    "    dataset = dataset.astype('float32')\n",
    "    maxValue = np.max(dataset)  # 获得最大值\n",
    "    minValue = np.min(dataset)\n",
    "    scalar = maxValue - minValue  # 获得间隔数量\n",
    "    #dataset = list(map(lambda x: (x - minValue) / scalar, dataset))\n",
    "    return dataset"
   ]
  },
  {
   "cell_type": "code",
   "execution_count": 52,
   "metadata": {
    "pycharm": {
     "is_executing": false
    }
   },
   "outputs": [],
   "source": [
    "#归一化数据\n",
    "def normalizeData(dataset):\n",
    "    maxValue = np.max(dataset)  # 获得最大值\n",
    "    minValue = np.min(dataset)\n",
    "    scalar = maxValue - minValue  # 获得间隔数量\n",
    "    dataset = list(map(lambda x: (x - minValue) / scalar, dataset))\n",
    "    return dataset, scalar, minValue"
   ]
  },
  {
   "cell_type": "code",
   "execution_count": 95,
   "metadata": {
    "pycharm": {
     "is_executing": false
    }
   },
   "outputs": [],
   "source": [
    "#对总数据集进行分割，获取训练集X_train，y_train，预测集X_test，y_test\n",
    "#预测集不会放入模型中训练，是用训练好的模型输入X_test得到结果来和y_test比较\n",
    "def getTrainAndTest(dataset):\n",
    "    X_all, y_all = splitSequence(dataset, N_STEPS)\n",
    "    X_all = X_all.reshape((X_all.shape[0], X_all.shape[1], N_FEATURES))\n",
    "    # 这个常数需要自行修改，根据下面的代码可以知道，这个常数是将总数据集进行分割。分割后的效果应该是X_test的长度正好是之前定义的预测的天数\n",
    "    # 然而由于本人数学能力有限，并未写成计算公式，而本人在使用过程中也是自己乱凑的常数\n",
    "    # 如果在训练过程中发现“。。。。can not put into the shape (。。。)”之类的报错，多半是这个常数设错了\n",
    "    train_size = 269\n",
    "    \n",
    "    test_size = len(X_all) - train_size\n",
    "\n",
    "    # Check the size of test data\n",
    "    # 好像check出来也不一定对，不去管它\n",
    "    print(test_size)\n",
    "    \n",
    "    X_train = X_all[:train_size]\n",
    "    y_train = y_all[:train_size]\n",
    "    X_test = X_all[train_size:]\n",
    "    y_test = y_all[train_size:]\n",
    "    return X_train, y_train, X_test, y_test"
   ]
  },
  {
   "cell_type": "code",
   "execution_count": 54,
   "metadata": {
    "pycharm": {
     "is_executing": false
    }
   },
   "outputs": [],
   "source": [
    "# 用TensorFlow实现的LSTM模块，输入训练集X_train，y_train进行训练，输入X_test进行预测\n",
    "# 输出预测结果yhat\n",
    "# reference: https://machinelearningmastery.com/how-to-develop-lstm-models-for-time-series-forecasting/\n",
    "def trainAndPred(X_train, y_train, X_test):\n",
    "    modelDouble = Sequential()\n",
    "    # 这里使用了bidirectional，其实改成单向也可以\n",
    "    modelDouble.add(Bidirectional(LSTM(50, activation='relu'), input_shape=(N_STEPS, N_FEATURES)))\n",
    "    modelDouble.add(Dense(1))\n",
    "    modelDouble.compile(optimizer='adam', loss='mse')\n",
    "    # 这里使用了callback机制防止过拟合，实践证明效果很好\n",
    "    callback = EarlyStopping(monitor='loss', patience=10)\n",
    "    modelDouble.fit(X_train, y_train, epochs=1500, verbose=0, callbacks=[callback], batch_size=5)\n",
    "    x_input = X_test\n",
    "\n",
    "    # Check the size of test data\n",
    "    print(x_input.shape)\n",
    "    \n",
    "    x_input = x_input.reshape((PRED_DAYS, N_STEPS, N_FEATURES))\n",
    "    yhat = modelDouble.predict(x_input, verbose=0)\n",
    "    return yhat"
   ]
  },
  {
   "cell_type": "code",
   "execution_count": 55,
   "metadata": {
    "pycharm": {
     "is_executing": false
    }
   },
   "outputs": [],
   "source": [
    "# 将此前归一化的数据反归一化\n",
    "# 由于出现了bug，暂时不考虑使用归一化\n",
    "def returnNormal(scalar, minValue, y_hat, y_test):\n",
    "    pred_y = list(map(lambda x: x * scalar + minValue, y_hat))\n",
    "    real_y = list(map(lambda x: x * scalar + minValue, y_test))\n",
    "    return pred_y, real_y"
   ]
  },
  {
   "cell_type": "code",
   "execution_count": 80,
   "metadata": {
    "pycharm": {
     "is_executing": false
    }
   },
   "outputs": [],
   "source": [
    "# 本人搞的基于EMD算法的LSTM\n",
    "# 具体原理：https://www.hindawi.com/journals/complexity/2020/6431712/\n",
    "def emdLSTM(dataset):\n",
    "    emd = EMD()\n",
    "    IMFs = emd.emd(dataset)\n",
    "    print(type(IMFs))\n",
    "    [rows, columns] = IMFs.shape\n",
    "    yhatResult = 0\n",
    "    for n, imf in enumerate(IMFs):\n",
    "        tempDataSet = imf\n",
    "        #print('--------------------------------------')\n",
    "        #myDataSet, myScalar, myMinValue = normalizeData(tempDataSet)\n",
    "        X_train, y_train, X_test, y_test = getTrainAndTest(tempDataSet)\n",
    "        yhat = trainAndPred(X_train, y_train, X_test)\n",
    "        #pred_y, _ = returnNormal(myScalar, myMinValue, yhat, y_test)\n",
    "        #print(yhat)\n",
    "        yhatResult = yhat + yhatResult\n",
    "    print(yhatResult)\n",
    "    return yhatResult"
   ]
  },
  {
   "cell_type": "code",
   "execution_count": 56,
   "metadata": {
    "pycharm": {
     "is_executing": false
    }
   },
   "outputs": [],
   "source": [
    "# 一些判断模型的评判标准\n",
    "def metrics(test,predict):\n",
    "    # MSE均方误差,越小越好\n",
    "    mse = mean_squared_error(test, predict)\n",
    "    print(\"MSE=\", mse)\n",
    "\n",
    "    # MAE数值越小越好，可以通过对比判断好坏\n",
    "    mae = mean_absolute_error(test, predict)\n",
    "    print(\"MAE=\", mae)\n",
    "\n",
    "    # R平方值，越接近1越好\n",
    "    r2 = r2_score(test, predict)\n",
    "    print(\"R_square=\", r2)"
   ]
  },
  {
   "cell_type": "code",
   "execution_count": 96,
   "metadata": {
    "pycharm": {
     "is_executing": false
    }
   },
   "outputs": [
    {
     "data": {
      "text/plain": "(279,)"
     },
     "metadata": {},
     "output_type": "execute_result",
     "execution_count": 96
    }
   ],
   "source": [
    "# 读数据\n",
    "dataset = readData('0226mean-yingkou-qinzhou.csv', 'size')\n",
    "dataset.shape"
   ]
  },
  {
   "cell_type": "code",
   "execution_count": 97,
   "metadata": {
    "pycharm": {
     "is_executing": false
    }
   },
   "outputs": [
    {
     "name": "stdout",
     "text": [
      "3\n"
     ],
     "output_type": "stream"
    }
   ],
   "source": [
    "# 获得训练集预测集\n",
    "#dataset, scalar, minValue = normalizeData(dataset)\n",
    "X_train, y_train, X_test, y_test = getTrainAndTest(dataset)"
   ]
  },
  {
   "cell_type": "code",
   "execution_count": 102,
   "metadata": {
    "pycharm": {
     "is_executing": false
    }
   },
   "outputs": [
    {
     "name": "stdout",
     "text": [
      "<class 'numpy.ndarray'>\n3\n",
      "(3, 7, 1)\n",
      "3\n",
      "(3, 7, 1)\n",
      "3\n",
      "(3, 7, 1)\n",
      "3\n",
      "(3, 7, 1)\n",
      "3\n",
      "(3, 7, 1)\n",
      "3\n",
      "(3, 7, 1)\n",
      "3\n",
      "(3, 7, 1)\n",
      "[[-28.729187]\n [-10.498628]\n [-15.241089]]\n[[-28.729187]\n [-10.498628]\n [-15.241089]]\n"
     ],
     "output_type": "stream"
    }
   ],
   "source": [
    "yhat = emdLSTM(dataset) #使用EMD-LSTM用这一行\n",
    "#yhat = trainAndPred(X_train, y_train, X_test) #使用一般LSTM用这一行\n",
    "#y_pred = returnNormal(scalar, minValue, yhat, y_test)\n",
    "print(yhat)"
   ]
  },
  {
   "cell_type": "code",
   "execution_count": 103,
   "metadata": {
    "pycharm": {
     "is_executing": false
    }
   },
   "outputs": [
    {
     "name": "stdout",
     "text": [
      "MSE= 9525.778\nMAE= 82.48963\nR_square= -2.667208811225094\n"
     ],
     "output_type": "stream"
    }
   ],
   "source": [
    "# 打印评判标准\n",
    "metrics(y_test, yhat)"
   ]
  },
  {
   "cell_type": "code",
   "execution_count": 104,
   "metadata": {
    "pycharm": {
     "is_executing": false
    }
   },
   "outputs": [
    {
     "data": {
      "text/plain": "<Figure size 432x288 with 1 Axes>",
      "image/png": "[encoded data removed]"
     },
     "metadata": {
      "needs_background": "light"
     },
     "output_type": "display_data"
    }
   ],
   "source": [
    "# 可视化作图\n",
    "plt.title('Yingkou_Qinzhou_deals')\n",
    "plt.plot(yhat, 'r', label='prediction')\n",
    "plt.plot(y_test, 'b', label='real')\n",
    "plt.legend(loc='best')\n",
    "plt.savefig('Yingkou_Qinzhou_deals_1146.png')\n",
    "plt.show()"
   ]
  },
  {
   "cell_type": "code",
   "execution_count": null,
   "metadata": {},
   "outputs": [],
   "source": []
  }
 ]
}