{
 "cells": [
  {
   "cell_type": "code",
   "execution_count": 28,
   "metadata": {
    "collapsed": true
   },
   "outputs": [],
   "source": [
    "import numpy as np\n",
    "from numpy import array\n",
    "from keras.models import Sequential\n",
    "from keras.layers import LSTM\n",
    "from keras.layers import Dense\n",
    "from keras.layers import Bidirectional\n",
    "import pandas as pd\n",
    "import matplotlib.pyplot as plt"
   ]
  },
  {
   "cell_type": "code",
   "execution_count": 4,
   "outputs": [],
   "source": [
    "def split_sequence(sequence, n_steps):\n",
    "\tX, y = list(), list()\n",
    "\tfor i in range(len(sequence)):\n",
    "\t\t# find the end of this pattern\n",
    "\t\tend_ix = i + n_steps\n",
    "\t\t# check if we are beyond the sequence\n",
    "\t\tif end_ix > len(sequence)-1:\n",
    "\t\t\tbreak\n",
    "\t\t# gather input and output parts of the pattern\n",
    "\t\tseq_x, seq_y = sequence[i:end_ix], sequence[end_ix]\n",
    "\t\tX.append(seq_x)\n",
    "\t\ty.append(seq_y)\n",
    "\treturn array(X), array(y)\n"
   ],
   "metadata": {
    "collapsed": false,
    "pycharm": {
     "name": "#%%\n"
    }
   }
  },
  {
   "cell_type": "code",
   "execution_count": 22,
   "outputs": [],
   "source": [
    "date_csv = pd.read_csv('Yingkou_Ningbo_deals.csv')\n",
    "dataset = date_csv['deals'].values\n",
    "dataset = dataset.astype('float32')\n",
    "max_value = np.max(dataset)  # 获得最大值\n",
    "min_value = np.min(dataset)\n",
    "scalar = max_value - min_value  # 获得间隔数量\n",
    "#scaler = MinMaxScaler(feature_range=(0, 1))\n",
    "#dataset = scaler.fit_transform(dataset_deal)\n",
    "dataset = list(map(lambda x: (x - min_value) / scalar, dataset))\n",
    "n_steps = 3\n",
    "X_all, y_all = split_sequence(dataset, n_steps)\n",
    "n_features = 1\n",
    "X_all = X_all.reshape((X_all.shape[0], X_all.shape[1], n_features))"
   ],
   "metadata": {
    "collapsed": false,
    "pycharm": {
     "name": "#%%\n"
    }
   }
  },
  {
   "cell_type": "code",
   "execution_count": 31,
   "outputs": [
    {
     "data": {
      "text/plain": "array([[[0.08695652],\n        [0.30706522],\n        [0.        ]],\n\n       [[0.30706522],\n        [0.        ],\n        [0.00271739]],\n\n       [[0.        ],\n        [0.00271739],\n        [0.        ]]], dtype=float32)"
     },
     "execution_count": 31,
     "metadata": {},
     "output_type": "execute_result"
    }
   ],
   "source": [
    "train_size = 32\n",
    "test_size = len(X_all) - train_size\n",
    "\n",
    "X_train = X_all[:train_size]\n",
    "y_train = y_all[:train_size]\n",
    "\n",
    "X_test = X_all[train_size:]\n",
    "y_test = y_all[train_size:]\n",
    "X_test"
   ],
   "metadata": {
    "collapsed": false,
    "pycharm": {
     "name": "#%%\n"
    }
   }
  },
  {
   "cell_type": "code",
   "execution_count": 20,
   "outputs": [
    {
     "data": {
      "text/plain": "<tensorflow.python.keras.callbacks.History at 0x216193be808>"
     },
     "execution_count": 20,
     "metadata": {},
     "output_type": "execute_result"
    }
   ],
   "source": [
    "model = Sequential()\n",
    "model.add(Bidirectional(LSTM(50, activation='relu'), input_shape=(n_steps, n_features)))\n",
    "model.add(Dense(1))\n",
    "model.compile(optimizer='adam', loss='mse')\n",
    "model.fit(X_train,y_train,epochs=200,verbose=0)"
   ],
   "metadata": {
    "collapsed": false,
    "pycharm": {
     "name": "#%%\n"
    }
   }
  },
  {
   "cell_type": "code",
   "execution_count": 32,
   "outputs": [
    {
     "name": "stdout",
     "output_type": "stream",
     "text": [
      "[[0.19225943]\n",
      " [0.20630582]\n",
      " [0.2509361 ]]\n"
     ]
    }
   ],
   "source": [
    "x_input = X_test\n",
    "x_input = x_input.reshape((3, n_steps, n_features))\n",
    "yhat = model.predict(x_input, verbose=0)\n",
    "print(yhat)"
   ],
   "metadata": {
    "collapsed": false,
    "pycharm": {
     "name": "#%%\n"
    }
   }
  },
  {
   "cell_type": "code",
   "execution_count": 35,
   "outputs": [
    {
     "name": "stdout",
     "output_type": "stream",
     "text": [
      "[0.00271739 0.         0.00271739]\n"
     ]
    }
   ],
   "source": [
    "pred_y = list(map(lambda x : x * scalar + min_value, yhat))\n",
    "real_y = y_test\n",
    "\n",
    "real_y = list(map(lambda x : x * scalar + min_value, real_y))\n",
    "print(real_y)"
   ],
   "metadata": {
    "collapsed": false,
    "pycharm": {
     "name": "#%%\n"
    }
   }
  },
  {
   "cell_type": "code",
   "execution_count": 38,
   "outputs": [
    {
     "data": {
      "text/plain": "<Figure size 432x288 with 1 Axes>",
      "image/png": "[encoded data removed]"
     },
     "metadata": {
      "needs_background": "light"
     },
     "output_type": "display_data"
    }
   ],
   "source": [
    "plt.title('Yingkou_Ningbo_deals')\n",
    "plt.plot(pred_y, 'r', label='prediction')\n",
    "plt.plot(real_y, 'b', label='real')\n",
    "#ymajorLocator  = MultipleLocator(100)\n",
    "#ax=plt.gca()\n",
    "#ax.yaxis.set_major_locator(ymajorLocator)\n",
    "\n",
    "plt.ylim(-100,500)\n",
    "plt.legend(loc='best')\n",
    "plt.savefig('Yingkou_Ningbo_deals_new1.png')"
   ],
   "metadata": {
    "collapsed": false,
    "pycharm": {
     "name": "#%%\n"
    }
   }
  }
 ],
 "metadata": {
  "kernelspec": {
   "name": "my_envs",
   "language": "python",
   "display_name": "my_envs"
  },
  "language_info": {
   "codemirror_mode": {
    "name": "ipython",
    "version": 2
   },
   "file_extension": ".py",
   "mimetype": "text/x-python",
   "name": "python",
   "nbconvert_exporter": "python",
   "pygments_lexer": "ipython2",
   "version": "2.7.6"
  }
 },
 "nbformat": 4,
 "nbformat_minor": 0
}