{
 "cells": [
  {
   "cell_type": "markdown",
   "metadata": {},
   "source": [
    "# Apply LSTM to predict price and sales and look for possible connections\n"
   ]
  },
  {
   "cell_type": "code",
   "execution_count": 50,
   "metadata": {},
   "outputs": [],
   "source": [
    "import numpy as np\n",
    "import pandas as pd\n",
    "import matplotlib.pyplot as plt\n",
    "\n",
    "from matplotlib.pyplot import MultipleLocator"
   ]
  },
  {
   "cell_type": "markdown",
   "metadata": {},
   "source": [
    "## 创建单个港口每日销量表\n",
    "选择出现最多的营口-宁波航线"
   ]
  },
  {
   "cell_type": "code",
   "execution_count": 86,
   "metadata": {},
   "outputs": [],
   "source": [
    "\n",
    "date_csv_deal = pd.read_csv('Yingkou_Ningbo_AMT.csv')\n"
   ]
  },
  {
   "cell_type": "markdown",
   "metadata": {},
   "source": [
    "## 数据预处理"
   ]
  },
  {
   "cell_type": "code",
   "execution_count": 87,
   "metadata": {},
   "outputs": [
    {
     "name": "stdout",
     "output_type": "stream",
     "text": [
      "[0.064150855, 0.60682833, 0.42264143, 0.42264143, 0.42264143, 0.42264143, 0.42264143, 0.46567377, 0.43707007, 0.44081047, 0.49666187, 0.5031289, 0.51698107, 0.47385436, 0.45768186, 0.44150934, 0.44150934, 0.44150934, 0.48536474, 0.44150934, 0.45926735, 0.030240096, 0.018867925, 0.018867925, 0.018867925, 0.018867925, 0.018867925, 0.00039088822, 0.023652466, 0.0, 0.0, 0.0, 0.0, 0.053097185, 0.5265488, 1.0, 1.0, 1.0]\n"
     ]
    }
   ],
   "source": [
    "# 数据预处理\n",
    "#date_csv = date_csv.dropna()\n",
    "#dataset = date_csv.values\n",
    "#dataset = dataset.astype('float32')\n",
    "#max_value = np.max(dataset)  # 获得最大值\n",
    "#min_value = np.min(dataset)  # 获得最小值\n",
    "#scalar = max_value - min_value  # 获得间隔数量\n",
    "#dataset = list(map(lambda x: x / scalar, dataset)) # 归一化\n",
    "\n",
    "#40w有合约\n",
    "date_csv_deal = date_csv_deal.dropna()\n",
    "# dataset_deal = date_csv_deal['sales'].values\n",
    "dataset_deal = date_csv_deal['AMT'].values\n",
    "dataset_deal = dataset_deal.astype('float32')\n",
    "max_value_deal = np.max(dataset_deal)  # 获得最大值\n",
    "min_value_deal = np.min(dataset_deal)  # 获得最小值\n",
    "scalar_deal = max_value_deal - min_value_deal  # 获得间隔数量\n",
    "#scaler = MinMaxScaler(feature_range=(0, 1))\n",
    "#dataset = scaler.fit_transform(dataset_deal)\n",
    "dataset_deal = list(map(lambda x: (x - min_value_deal) / scalar_deal, dataset_deal)) # 归一化\n",
    "print(dataset_deal)\n"
   ]
  },
  {
   "cell_type": "markdown",
   "metadata": {},
   "source": [
    "## 设置数据集\n",
    "设置X,Y数据集。以look_back=2为准，取第一个和第二个为数组，形成data_X,取第三个作为预测值，形成data_Y，完成训练集的提取。"
   ]
  },
  {
   "cell_type": "code",
   "execution_count": 88,
   "metadata": {},
   "outputs": [
    {
     "name": "stdout",
     "output_type": "stream",
     "text": [
      "[[6.4150855e-02 6.0682833e-01 4.2264143e-01 4.2264143e-01 4.2264143e-01\n",
      "  4.2264143e-01 4.2264143e-01]\n",
      " [6.0682833e-01 4.2264143e-01 4.2264143e-01 4.2264143e-01 4.2264143e-01\n",
      "  4.2264143e-01 4.6567377e-01]\n",
      " [4.2264143e-01 4.2264143e-01 4.2264143e-01 4.2264143e-01 4.2264143e-01\n",
      "  4.6567377e-01 4.3707007e-01]\n",
      " [4.2264143e-01 4.2264143e-01 4.2264143e-01 4.2264143e-01 4.6567377e-01\n",
      "  4.3707007e-01 4.4081047e-01]\n",
      " [4.2264143e-01 4.2264143e-01 4.2264143e-01 4.6567377e-01 4.3707007e-01\n",
      "  4.4081047e-01 4.9666187e-01]\n",
      " [4.2264143e-01 4.2264143e-01 4.6567377e-01 4.3707007e-01 4.4081047e-01\n",
      "  4.9666187e-01 5.0312889e-01]\n",
      " [4.2264143e-01 4.6567377e-01 4.3707007e-01 4.4081047e-01 4.9666187e-01\n",
      "  5.0312889e-01 5.1698107e-01]\n",
      " [4.6567377e-01 4.3707007e-01 4.4081047e-01 4.9666187e-01 5.0312889e-01\n",
      "  5.1698107e-01 4.7385436e-01]\n",
      " [4.3707007e-01 4.4081047e-01 4.9666187e-01 5.0312889e-01 5.1698107e-01\n",
      "  4.7385436e-01 4.5768186e-01]\n",
      " [4.4081047e-01 4.9666187e-01 5.0312889e-01 5.1698107e-01 4.7385436e-01\n",
      "  4.5768186e-01 4.4150934e-01]\n",
      " [4.9666187e-01 5.0312889e-01 5.1698107e-01 4.7385436e-01 4.5768186e-01\n",
      "  4.4150934e-01 4.4150934e-01]\n",
      " [5.0312889e-01 5.1698107e-01 4.7385436e-01 4.5768186e-01 4.4150934e-01\n",
      "  4.4150934e-01 4.4150934e-01]\n",
      " [5.1698107e-01 4.7385436e-01 4.5768186e-01 4.4150934e-01 4.4150934e-01\n",
      "  4.4150934e-01 4.8536474e-01]\n",
      " [4.7385436e-01 4.5768186e-01 4.4150934e-01 4.4150934e-01 4.4150934e-01\n",
      "  4.8536474e-01 4.4150934e-01]\n",
      " [4.5768186e-01 4.4150934e-01 4.4150934e-01 4.4150934e-01 4.8536474e-01\n",
      "  4.4150934e-01 4.5926735e-01]\n",
      " [4.4150934e-01 4.4150934e-01 4.4150934e-01 4.8536474e-01 4.4150934e-01\n",
      "  4.5926735e-01 3.0240096e-02]\n",
      " [4.4150934e-01 4.4150934e-01 4.8536474e-01 4.4150934e-01 4.5926735e-01\n",
      "  3.0240096e-02 1.8867925e-02]\n",
      " [4.4150934e-01 4.8536474e-01 4.4150934e-01 4.5926735e-01 3.0240096e-02\n",
      "  1.8867925e-02 1.8867925e-02]\n",
      " [4.8536474e-01 4.4150934e-01 4.5926735e-01 3.0240096e-02 1.8867925e-02\n",
      "  1.8867925e-02 1.8867925e-02]\n",
      " [4.4150934e-01 4.5926735e-01 3.0240096e-02 1.8867925e-02 1.8867925e-02\n",
      "  1.8867925e-02 1.8867925e-02]\n",
      " [4.5926735e-01 3.0240096e-02 1.8867925e-02 1.8867925e-02 1.8867925e-02\n",
      "  1.8867925e-02 1.8867925e-02]\n",
      " [3.0240096e-02 1.8867925e-02 1.8867925e-02 1.8867925e-02 1.8867925e-02\n",
      "  1.8867925e-02 3.9088822e-04]\n",
      " [1.8867925e-02 1.8867925e-02 1.8867925e-02 1.8867925e-02 1.8867925e-02\n",
      "  3.9088822e-04 2.3652466e-02]\n",
      " [1.8867925e-02 1.8867925e-02 1.8867925e-02 1.8867925e-02 3.9088822e-04\n",
      "  2.3652466e-02 0.0000000e+00]\n",
      " [1.8867925e-02 1.8867925e-02 1.8867925e-02 3.9088822e-04 2.3652466e-02\n",
      "  0.0000000e+00 0.0000000e+00]\n",
      " [1.8867925e-02 1.8867925e-02 3.9088822e-04 2.3652466e-02 0.0000000e+00\n",
      "  0.0000000e+00 0.0000000e+00]\n",
      " [1.8867925e-02 3.9088822e-04 2.3652466e-02 0.0000000e+00 0.0000000e+00\n",
      "  0.0000000e+00 0.0000000e+00]\n",
      " [3.9088822e-04 2.3652466e-02 0.0000000e+00 0.0000000e+00 0.0000000e+00\n",
      "  0.0000000e+00 5.3097185e-02]\n",
      " [2.3652466e-02 0.0000000e+00 0.0000000e+00 0.0000000e+00 0.0000000e+00\n",
      "  5.3097185e-02 5.2654880e-01]\n",
      " [0.0000000e+00 0.0000000e+00 0.0000000e+00 0.0000000e+00 5.3097185e-02\n",
      "  5.2654880e-01 1.0000000e+00]\n",
      " [0.0000000e+00 0.0000000e+00 0.0000000e+00 5.3097185e-02 5.2654880e-01\n",
      "  1.0000000e+00 1.0000000e+00]]\n"
     ]
    }
   ],
   "source": [
    "def create_dataset(dataset, look_back=7):\n",
    "    dataX, dataY = [], []\n",
    "    for i in range(len(dataset) - look_back):\n",
    "        a = dataset[i:(i + look_back)]\n",
    "        dataX.append(a)\n",
    "        dataY.append(dataset[i + look_back])\n",
    "    return np.array(dataX), np.array(dataY)\n",
    "\n",
    "#data_X, data_Y = create_dataset(dataset)\n",
    "#40w有合约\n",
    "data_X_deal, data_Y_deal = create_dataset(dataset_deal)\n",
    "print(data_X_deal)"
   ]
  },
  {
   "cell_type": "markdown",
   "metadata": {},
   "source": [
    "## 设置训练集和测试集"
   ]
  },
  {
   "cell_type": "code",
   "execution_count": 89,
   "metadata": {},
   "outputs": [
    {
     "name": "stdout",
     "output_type": "stream",
     "text": [
      "31\n",
      "[[0.02365247 0.         0.         0.         0.         0.05309718\n",
      "  0.5265488 ]\n",
      " [0.         0.         0.         0.         0.05309718 0.5265488\n",
      "  1.        ]\n",
      " [0.         0.         0.         0.05309718 0.5265488  1.\n",
      "  1.        ]]\n",
      "[1. 1. 1.]\n"
     ]
    }
   ],
   "source": [
    "# 划分训练集和测试集，70% 作为训练集\n",
    "#train_size = int(len(data_X) * 0.7)\n",
    "#test_size = len(data_X) - train_size\n",
    "#train_X = data_X[:train_size]\n",
    "#train_Y = data_Y[:train_size]\n",
    "#test_X = data_X[train_size:]\n",
    "#test_Y = data_Y[train_size:]\n",
    "\n",
    "#40w有合约\n",
    "print(len(data_Y_deal))\n",
    "\n",
    "# train_size_deal = int(len(data_X_deal) * 0.7)\n",
    "# test_size_deal = len(data_X_deal) - train_size_deal\n",
    "train_size_deal = 28\n",
    "test_size_deal = len(data_X_deal) - train_size_deal\n",
    "\n",
    "train_X_deal = data_X_deal[:train_size_deal]\n",
    "train_Y_deal = data_Y_deal[:train_size_deal]\n",
    "\n",
    "test_X_deal = data_X_deal[train_size_deal:]\n",
    "test_Y_deal = data_Y_deal[train_size_deal:]\n",
    "print(test_X_deal)\n",
    "print(test_Y_deal)"
   ]
  },
  {
   "cell_type": "markdown",
   "metadata": {},
   "source": [
    "## 设置LSTM模型数据类型形状\n",
    "设置LSTM能识别的数据类型，形成train_X的一维两个参数的数组，train_Y的一维一个参数的数组。并转化为tensor类型"
   ]
  },
  {
   "cell_type": "code",
   "execution_count": 90,
   "metadata": {},
   "outputs": [
    {
     "name": "stdout",
     "output_type": "stream",
     "text": [
      "[1. 1. 1.]\n"
     ]
    }
   ],
   "source": [
    "import torch\n",
    "\n",
    "#train_X = train_X.reshape(-1, 1, 2)\n",
    "#train_Y = train_Y.reshape(-1, 1, 1)\n",
    "#test_X = test_X.reshape(-1, 1, 2)\n",
    "\n",
    "#train_x = torch.from_numpy(train_X)\n",
    "#train_y = torch.from_numpy(train_Y)\n",
    "#test_x = torch.from_numpy(test_X)\n",
    "\n",
    "#40w有合约\n",
    "train_X_deal = train_X_deal.reshape(-1, 1, 7)\n",
    "train_Y_deal = train_Y_deal.reshape(-1, 1, 1)\n",
    "test_X_deal = test_X_deal.reshape(-1, 1, 7)\n",
    "\n",
    "\n",
    "train_x_deal = torch.from_numpy(train_X_deal)\n",
    "train_y_deal = torch.from_numpy(train_Y_deal)\n",
    "test_x_deal = torch.from_numpy(test_X_deal)\n",
    "#test_y_deal = torch.from_numpy(test_Y_deal)\n",
    "print(test_Y_deal)"
   ]
  },
  {
   "cell_type": "markdown",
   "metadata": {},
   "source": [
    "## 建立LSTM模型\n",
    "建立LSTM模型，第一层为LSTM神经网络，第二层为一个全连接层。"
   ]
  },
  {
   "cell_type": "code",
   "execution_count": 91,
   "metadata": {},
   "outputs": [],
   "source": [
    "from torch import nn\n",
    "from torch.autograd import Variable\n",
    "\n",
    "class lstm(nn.Module):\n",
    "    def __init__(self,input_size=5,hidden_size=20,output_size=1,num_layer=7):\n",
    "        super(lstm,self).__init__()\n",
    "        self.layer1 = nn.LSTM(input_size,hidden_size,num_layer)\n",
    "        self.layer2 = nn.Linear(hidden_size,output_size)\n",
    "    \n",
    "    def forward(self,x):\n",
    "        x,_ = self.layer1(x)\n",
    "        s,b,h = x.size()\n",
    "        x = x.view(s*b,h)\n",
    "        x = self.layer2(x)\n",
    "        x = x.view(s,b,-1)\n",
    "        return x\n",
    "\n",
    "#model = lstm(2,10,1,3)\n",
    "#40w有合约\n",
    "model_deal = lstm(7,16,1,3)"
   ]
  },
  {
   "cell_type": "markdown",
   "metadata": {},
   "source": [
    "## 建立损失函数和优化器\n",
    "设置交叉熵损失函数和自适应梯度下降算法"
   ]
  },
  {
   "cell_type": "code",
   "execution_count": 92,
   "metadata": {},
   "outputs": [],
   "source": [
    "#criterion = nn.MSELoss()\n",
    "#optimizer = torch.optim.Adam(model.parameters(), lr=1e-2)\n",
    "\n",
    "criterion_deal = nn.MSELoss()\n",
    "optimizer_deal = torch.optim.Adam(model_deal.parameters(), lr=1e-2)"
   ]
  },
  {
   "cell_type": "markdown",
   "metadata": {},
   "source": [
    "## 模型训练"
   ]
  },
  {
   "cell_type": "code",
   "execution_count": 93,
   "metadata": {},
   "outputs": [
    {
     "name": "stdout",
     "output_type": "stream",
     "text": [
      "Epoch: 200, Loss: 0.00045364530524238944\n",
      "Epoch: 400, Loss: 0.019917750731110573\n",
      "Epoch: 600, Loss: 0.0001188103124150075\n",
      "Epoch: 800, Loss: 8.17530817585066e-05\n",
      "Epoch: 1000, Loss: 6.029303040122613e-05\n",
      "Epoch: 1200, Loss: 3.986168667324819e-05\n",
      "Epoch: 1400, Loss: 3.121472036582418e-05\n",
      "Epoch: 1600, Loss: 2.7529013095772825e-05\n",
      "Epoch: 1800, Loss: 2.4646331439726055e-05\n",
      "Epoch: 2000, Loss: 0.010017563588917255\n"
     ]
    }
   ],
   "source": [
    "# 开始训练\n",
    "#for e in range(100):\n",
    "#    var_x = Variable(train_x)\n",
    "#    var_y = Variable(train_y)\n",
    "    # 前向传播\n",
    "#    out = model(var_x)\n",
    "#    loss = criterion(out, var_y)\n",
    "    # 反向传播\n",
    "#    optimizer.zero_grad()\n",
    "#    loss.backward()\n",
    "#    optimizer.step()\n",
    "    \n",
    "#    if (e + 1) % 1000 == 0: # 每 100 次输出结果\n",
    "#        print(f\"Epoch: {e + 1}, Loss: {loss.item()}\")\n",
    "\n",
    "#40w有合约\n",
    "for e in range(2000):\n",
    "    var_x_deal = Variable(train_x_deal)\n",
    "    var_y_deal = Variable(train_y_deal)\n",
    "    # 前向传播\n",
    "    out_deal = model_deal(var_x_deal)\n",
    "    loss_deal = criterion_deal(out_deal, var_y_deal)\n",
    "    # 反向传播\n",
    "    optimizer_deal.zero_grad()\n",
    "    loss_deal.backward()\n",
    "    optimizer_deal.step()\n",
    "    \n",
    "    if (e + 1) % 200 == 0: # 每 100 次输出结果\n",
    "        print(f\"Epoch: {e + 1}, Loss: {loss_deal.item()}\")"
   ]
  },
  {
   "cell_type": "markdown",
   "metadata": {},
   "source": [
    "## 模型预测"
   ]
  },
  {
   "cell_type": "code",
   "execution_count": 94,
   "metadata": {},
   "outputs": [
    {
     "name": "stdout",
     "output_type": "stream",
     "text": [
      "[2094.75, 2094.75, 2094.75]\n"
     ]
    }
   ],
   "source": [
    "#model = model.eval() # 转换成测试模式\n",
    "\n",
    "#data_X = data_X.reshape(-1, 1, 2)\n",
    "#data_X = torch.from_numpy(data_X)\n",
    "#var_data = Variable(data_X)\n",
    "#pred_test = model(var_data) # 测试集的预测结果\n",
    "# 改变输出的格式\n",
    "#pred_test = pred_test.view(-1).data.numpy()\n",
    "\n",
    "#40w有合约\n",
    "model_deal = model_deal.eval() # 转换成测试模式\n",
    "\n",
    "#data_X_deal_np = data_X_deal.reshape(-1, 1, 5)\n",
    "#data_X_deal_tensor = torch.from_numpy(data_X_deal_np)\n",
    "#var_data_deal = Variable(data_X_deal_tensor)\n",
    "#pred_test_deal = model_deal(var_data_deal) # 测试集的预测结果\n",
    "pred_test_deal = model_deal(test_x_deal)\n",
    "# 改变输出的格式\n",
    "pred_test_deal = pred_test_deal.view(-1).data.numpy()\n",
    "pred_test_deal = list(map(lambda x : x * scalar_deal + min_value_deal, pred_test_deal))\n",
    "real_deal = test_Y_deal\n",
    "\n",
    "real_deal = list(map(lambda x : x * scalar_deal + min_value_deal, real_deal))\n",
    "print(real_deal)\n"
   ]
  },
  {
   "cell_type": "markdown",
   "metadata": {},
   "source": [
    "## 预测序列可视化"
   ]
  },
  {
   "cell_type": "code",
   "execution_count": 95,
   "metadata": {
    "scrolled": true
   },
   "outputs": [
    {
     "data": {
      "image/png": "[encoded data removed]",
      "text/plain": [
       "<Figure size 432x288 with 1 Axes>"
      ]
     },
     "metadata": {
      "needs_background": "light"
     },
     "output_type": "display_data"
    }
   ],
   "source": [
    "# 画出实际结果和预测的结果\n",
    "#plt.plot(pred_test, 'r', label='prediction')\n",
    "#plt.plot(dataset, 'b', label='real')\n",
    "#plt.legend(loc='best')\n",
    "\n",
    "#40w有合约\n",
    "plt.title('AMT')\n",
    "plt.plot(pred_test_deal, 'r', label='prediction')\n",
    "plt.plot(real_deal, 'b', label='real')\n",
    "#ymajorLocator  = MultipleLocator(100)\n",
    "#ax=plt.gca()\n",
    "#ax.yaxis.set_major_locator(ymajorLocator)\n",
    "\n",
    "plt.ylim(1500,3000)\n",
    "plt.legend(loc='best')\n",
    "plt.savefig('Yingkou_Ningbo_AMT_new1.png')"
   ]
  },
  {
   "cell_type": "code",
   "execution_count": null,
   "metadata": {},
   "outputs": [],
   "source": []
  }
 ],
 "metadata": {
  "kernelspec": {
   "display_name": "Pytorch_envs",
   "language": "python",
   "name": "pytorch_envs"
  },
  "language_info": {
   "codemirror_mode": {
    "name": "ipython",
    "version": 3
   },
   "file_extension": ".py",
   "mimetype": "text/x-python",
   "name": "python",
   "nbconvert_exporter": "python",
   "pygments_lexer": "ipython3",
   "version": "3.7.9"
  }
 },
 "nbformat": 4,
 "nbformat_minor": 2
}
